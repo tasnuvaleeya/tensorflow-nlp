{
  "nbformat": 4,
  "nbformat_minor": 0,
  "metadata": {
    "accelerator": "GPU",
    "colab": {
      "name": "NLP_Week4_Exercise_Shakespeare_Question.ipynb",
      "provenance": [],
      "toc_visible": true
    },
    "kernelspec": {
      "display_name": "Python 3",
      "name": "python3"
    }
  },
  "cells": [
    {
      "cell_type": "code",
      "metadata": {
        "id": "zX4Kg8DUTKWO",
        "colab_type": "code",
        "colab": {}
      },
      "source": [
        "#@title Licensed under the Apache License, Version 2.0 (the \"License\");\n",
        "# you may not use this file except in compliance with the License.\n",
        "# You may obtain a copy of the License at\n",
        "#\n",
        "# https://www.apache.org/licenses/LICENSE-2.0\n",
        "#\n",
        "# Unless required by applicable law or agreed to in writing, software\n",
        "# distributed under the License is distributed on an \"AS IS\" BASIS,\n",
        "# WITHOUT WARRANTIES OR CONDITIONS OF ANY KIND, either express or implied.\n",
        "# See the License for the specific language governing permissions and\n",
        "# limitations under the License."
      ],
      "execution_count": null,
      "outputs": []
    },
    {
      "cell_type": "code",
      "metadata": {
        "colab_type": "code",
        "id": "BOwsuGQQY9OL",
        "colab": {}
      },
      "source": [
        "from tensorflow.keras.preprocessing.sequence import pad_sequences\n",
        "from tensorflow.keras.layers import Embedding, LSTM, Dense, Dropout, Bidirectional\n",
        "from tensorflow.keras.preprocessing.text import Tokenizer\n",
        "from tensorflow.keras.models import Sequential\n",
        "from tensorflow.keras.optimizers import Adam\n",
        "### YOUR CODE HERE\n",
        "# Figure out how to import regularizers\n",
        "###\n",
        "import tensorflow.keras.utils as ku \n",
        "import numpy as np "
      ],
      "execution_count": 3,
      "outputs": []
    },
    {
      "cell_type": "code",
      "metadata": {
        "colab_type": "code",
        "id": "PRnDnCW-Z7qv",
        "colab": {
          "base_uri": "https://localhost:8080/",
          "height": 204
        },
        "outputId": "981be7a8-c035-4658-f887-1cbcfac3405c"
      },
      "source": [
        "tokenizer = Tokenizer()\n",
        "!wget --no-check-certificate \\\n",
        "    https://storage.googleapis.com/laurencemoroney-blog.appspot.com/sonnets.txt \\\n",
        "    -O /tmp/sonnets.txt\n",
        "data = open('/tmp/sonnets.txt').read()\n",
        "\n",
        "corpus = data.lower().split(\"\\n\")\n",
        "\n",
        "\n",
        "tokenizer.fit_on_texts(corpus)\n",
        "total_words = len(tokenizer.word_index) + 1\n",
        "\n",
        "# create input sequences using list of tokens\n",
        "input_sequences = []\n",
        "for line in corpus:\n",
        "\ttoken_list = tokenizer.texts_to_sequences([line])[0]\n",
        "\tfor i in range(1, len(token_list)):\n",
        "\t\tn_gram_sequence = token_list[:i+1]\n",
        "\t\tinput_sequences.append(n_gram_sequence)\n",
        "\n",
        "\n",
        "# pad sequences \n",
        "max_sequence_len = max([len(x) for x in input_sequences])\n",
        "input_sequences = np.array(pad_sequences(input_sequences, maxlen=max_sequence_len, padding='pre'))\n",
        "\n",
        "# create predictors and label\n",
        "predictors, label = input_sequences[:,:-1],input_sequences[:,-1]\n",
        "\n",
        "label = ku.to_categorical(label, num_classes=total_words)"
      ],
      "execution_count": 4,
      "outputs": [
        {
          "output_type": "stream",
          "text": [
            "--2020-09-09 13:44:13--  https://storage.googleapis.com/laurencemoroney-blog.appspot.com/sonnets.txt\n",
            "Resolving storage.googleapis.com (storage.googleapis.com)... 74.125.20.128, 74.125.142.128, 74.125.195.128, ...\n",
            "Connecting to storage.googleapis.com (storage.googleapis.com)|74.125.20.128|:443... connected.\n",
            "HTTP request sent, awaiting response... 200 OK\n",
            "Length: 93578 (91K) [text/plain]\n",
            "Saving to: ‘/tmp/sonnets.txt’\n",
            "\n",
            "/tmp/sonnets.txt    100%[===================>]  91.38K  --.-KB/s    in 0.001s  \n",
            "\n",
            "2020-09-09 13:44:13 (155 MB/s) - ‘/tmp/sonnets.txt’ saved [93578/93578]\n",
            "\n"
          ],
          "name": "stdout"
        }
      ]
    },
    {
      "cell_type": "code",
      "metadata": {
        "colab_type": "code",
        "id": "w9vH8Y59ajYL",
        "colab": {
          "base_uri": "https://localhost:8080/",
          "height": 374
        },
        "outputId": "08ed1205-9855-4600-eb1e-8a835b2cbc87"
      },
      "source": [
        "from tensorflow.keras import regularizers\n",
        "\n",
        "model = Sequential()\n",
        "model.add(Embedding(total_words, 100, input_length=max_sequence_len-1))\n",
        "model.add(Bidirectional(LSTM(150, return_sequences=True)))\n",
        "model.add(Dropout(0.2))\n",
        "model.add(LSTM(100))\n",
        "model.add(Dense(total_words/2, activation='relu', kernel_regularizer=regularizers.l2(0.01)))\n",
        "model.add(Dense(total_words, activation='softmax'))\n",
        "# Pick an optimizer\n",
        "model.compile(loss='categorical_crossentropy', optimizer='adam', metrics=['accuracy'])\n",
        "print(model.summary())\n"
      ],
      "execution_count": 5,
      "outputs": [
        {
          "output_type": "stream",
          "text": [
            "Model: \"sequential\"\n",
            "_________________________________________________________________\n",
            "Layer (type)                 Output Shape              Param #   \n",
            "=================================================================\n",
            "embedding (Embedding)        (None, 10, 100)           321100    \n",
            "_________________________________________________________________\n",
            "bidirectional (Bidirectional (None, 10, 300)           301200    \n",
            "_________________________________________________________________\n",
            "dropout (Dropout)            (None, 10, 300)           0         \n",
            "_________________________________________________________________\n",
            "lstm_1 (LSTM)                (None, 100)               160400    \n",
            "_________________________________________________________________\n",
            "dense (Dense)                (None, 1605)              162105    \n",
            "_________________________________________________________________\n",
            "dense_1 (Dense)              (None, 3211)              5156866   \n",
            "=================================================================\n",
            "Total params: 6,101,671\n",
            "Trainable params: 6,101,671\n",
            "Non-trainable params: 0\n",
            "_________________________________________________________________\n",
            "None\n"
          ],
          "name": "stdout"
        }
      ]
    },
    {
      "cell_type": "code",
      "metadata": {
        "colab_type": "code",
        "id": "AIg2f1HBxqof",
        "colab": {
          "base_uri": "https://localhost:8080/",
          "height": 1000
        },
        "outputId": "8e9e0274-e1e4-4c71-f4b9-46dc773d1da0"
      },
      "source": [
        " history = model.fit(predictors, label, epochs=100, verbose=2)"
      ],
      "execution_count": 6,
      "outputs": [
        {
          "output_type": "stream",
          "text": [
            "Epoch 1/100\n",
            "484/484 - 5s - loss: 6.9029 - accuracy: 0.0199\n",
            "Epoch 2/100\n",
            "484/484 - 5s - loss: 6.5030 - accuracy: 0.0228\n",
            "Epoch 3/100\n",
            "484/484 - 5s - loss: 6.4146 - accuracy: 0.0244\n",
            "Epoch 4/100\n",
            "484/484 - 5s - loss: 6.3051 - accuracy: 0.0301\n",
            "Epoch 5/100\n",
            "484/484 - 5s - loss: 6.2149 - accuracy: 0.0334\n",
            "Epoch 6/100\n",
            "484/484 - 5s - loss: 6.1464 - accuracy: 0.0374\n",
            "Epoch 7/100\n",
            "484/484 - 5s - loss: 6.0757 - accuracy: 0.0385\n",
            "Epoch 8/100\n",
            "484/484 - 5s - loss: 6.0061 - accuracy: 0.0420\n",
            "Epoch 9/100\n",
            "484/484 - 5s - loss: 5.9209 - accuracy: 0.0471\n",
            "Epoch 10/100\n",
            "484/484 - 5s - loss: 5.8223 - accuracy: 0.0528\n",
            "Epoch 11/100\n",
            "484/484 - 5s - loss: 5.7124 - accuracy: 0.0573\n",
            "Epoch 12/100\n",
            "484/484 - 5s - loss: 5.6138 - accuracy: 0.0634\n",
            "Epoch 13/100\n",
            "484/484 - 5s - loss: 5.5126 - accuracy: 0.0689\n",
            "Epoch 14/100\n",
            "484/484 - 5s - loss: 5.4167 - accuracy: 0.0739\n",
            "Epoch 15/100\n",
            "484/484 - 5s - loss: 5.3210 - accuracy: 0.0797\n",
            "Epoch 16/100\n",
            "484/484 - 5s - loss: 5.2239 - accuracy: 0.0891\n",
            "Epoch 17/100\n",
            "484/484 - 5s - loss: 5.1290 - accuracy: 0.0929\n",
            "Epoch 18/100\n",
            "484/484 - 5s - loss: 5.0398 - accuracy: 0.0978\n",
            "Epoch 19/100\n",
            "484/484 - 5s - loss: 4.9377 - accuracy: 0.1068\n",
            "Epoch 20/100\n",
            "484/484 - 5s - loss: 4.8388 - accuracy: 0.1146\n",
            "Epoch 21/100\n",
            "484/484 - 5s - loss: 4.7410 - accuracy: 0.1214\n",
            "Epoch 22/100\n",
            "484/484 - 5s - loss: 4.6398 - accuracy: 0.1295\n",
            "Epoch 23/100\n",
            "484/484 - 5s - loss: 4.5491 - accuracy: 0.1413\n",
            "Epoch 24/100\n",
            "484/484 - 5s - loss: 4.4422 - accuracy: 0.1516\n",
            "Epoch 25/100\n",
            "484/484 - 5s - loss: 4.3451 - accuracy: 0.1619\n",
            "Epoch 26/100\n",
            "484/484 - 5s - loss: 4.2474 - accuracy: 0.1686\n",
            "Epoch 27/100\n",
            "484/484 - 5s - loss: 4.1490 - accuracy: 0.1839\n",
            "Epoch 28/100\n",
            "484/484 - 5s - loss: 4.0562 - accuracy: 0.1928\n",
            "Epoch 29/100\n",
            "484/484 - 5s - loss: 3.9602 - accuracy: 0.2095\n",
            "Epoch 30/100\n",
            "484/484 - 5s - loss: 3.8666 - accuracy: 0.2254\n",
            "Epoch 31/100\n",
            "484/484 - 5s - loss: 3.7792 - accuracy: 0.2455\n",
            "Epoch 32/100\n",
            "484/484 - 5s - loss: 3.6927 - accuracy: 0.2610\n",
            "Epoch 33/100\n",
            "484/484 - 5s - loss: 3.6053 - accuracy: 0.2771\n",
            "Epoch 34/100\n",
            "484/484 - 5s - loss: 3.5285 - accuracy: 0.2963\n",
            "Epoch 35/100\n",
            "484/484 - 5s - loss: 3.4361 - accuracy: 0.3130\n",
            "Epoch 36/100\n",
            "484/484 - 5s - loss: 3.3598 - accuracy: 0.3329\n",
            "Epoch 37/100\n",
            "484/484 - 5s - loss: 3.2800 - accuracy: 0.3495\n",
            "Epoch 38/100\n",
            "484/484 - 5s - loss: 3.2115 - accuracy: 0.3610\n",
            "Epoch 39/100\n",
            "484/484 - 5s - loss: 3.1305 - accuracy: 0.3818\n",
            "Epoch 40/100\n",
            "484/484 - 5s - loss: 3.0648 - accuracy: 0.3950\n",
            "Epoch 41/100\n",
            "484/484 - 5s - loss: 2.9992 - accuracy: 0.4084\n",
            "Epoch 42/100\n",
            "484/484 - 5s - loss: 2.9394 - accuracy: 0.4215\n",
            "Epoch 43/100\n",
            "484/484 - 5s - loss: 2.8675 - accuracy: 0.4399\n",
            "Epoch 44/100\n",
            "484/484 - 5s - loss: 2.8078 - accuracy: 0.4534\n",
            "Epoch 45/100\n",
            "484/484 - 5s - loss: 2.7423 - accuracy: 0.4688\n",
            "Epoch 46/100\n",
            "484/484 - 5s - loss: 2.6825 - accuracy: 0.4832\n",
            "Epoch 47/100\n",
            "484/484 - 5s - loss: 2.6427 - accuracy: 0.4920\n",
            "Epoch 48/100\n",
            "484/484 - 5s - loss: 2.5872 - accuracy: 0.5044\n",
            "Epoch 49/100\n",
            "484/484 - 5s - loss: 2.5309 - accuracy: 0.5180\n",
            "Epoch 50/100\n",
            "484/484 - 5s - loss: 2.4749 - accuracy: 0.5269\n",
            "Epoch 51/100\n",
            "484/484 - 5s - loss: 2.4215 - accuracy: 0.5396\n",
            "Epoch 52/100\n",
            "484/484 - 5s - loss: 2.3808 - accuracy: 0.5488\n",
            "Epoch 53/100\n",
            "484/484 - 5s - loss: 2.3277 - accuracy: 0.5622\n",
            "Epoch 54/100\n",
            "484/484 - 5s - loss: 2.2915 - accuracy: 0.5702\n",
            "Epoch 55/100\n",
            "484/484 - 5s - loss: 2.2356 - accuracy: 0.5830\n",
            "Epoch 56/100\n",
            "484/484 - 5s - loss: 2.1896 - accuracy: 0.5945\n",
            "Epoch 57/100\n",
            "484/484 - 5s - loss: 2.1671 - accuracy: 0.5977\n",
            "Epoch 58/100\n",
            "484/484 - 5s - loss: 2.1358 - accuracy: 0.6068\n",
            "Epoch 59/100\n",
            "484/484 - 5s - loss: 2.0846 - accuracy: 0.6169\n",
            "Epoch 60/100\n",
            "484/484 - 5s - loss: 2.0516 - accuracy: 0.6198\n",
            "Epoch 61/100\n",
            "484/484 - 5s - loss: 2.0215 - accuracy: 0.6292\n",
            "Epoch 62/100\n",
            "484/484 - 5s - loss: 1.9892 - accuracy: 0.6367\n",
            "Epoch 63/100\n",
            "484/484 - 5s - loss: 1.9391 - accuracy: 0.6468\n",
            "Epoch 64/100\n",
            "484/484 - 5s - loss: 1.9102 - accuracy: 0.6543\n",
            "Epoch 65/100\n",
            "484/484 - 5s - loss: 1.8821 - accuracy: 0.6601\n",
            "Epoch 66/100\n",
            "484/484 - 5s - loss: 1.8487 - accuracy: 0.6669\n",
            "Epoch 67/100\n",
            "484/484 - 5s - loss: 1.8236 - accuracy: 0.6740\n",
            "Epoch 68/100\n",
            "484/484 - 5s - loss: 1.8063 - accuracy: 0.6715\n",
            "Epoch 69/100\n",
            "484/484 - 5s - loss: 1.7734 - accuracy: 0.6813\n",
            "Epoch 70/100\n",
            "484/484 - 5s - loss: 1.7631 - accuracy: 0.6815\n",
            "Epoch 71/100\n",
            "484/484 - 5s - loss: 1.7157 - accuracy: 0.6924\n",
            "Epoch 72/100\n",
            "484/484 - 5s - loss: 1.7023 - accuracy: 0.6984\n",
            "Epoch 73/100\n",
            "484/484 - 5s - loss: 1.6654 - accuracy: 0.7061\n",
            "Epoch 74/100\n",
            "484/484 - 5s - loss: 1.6425 - accuracy: 0.7098\n",
            "Epoch 75/100\n",
            "484/484 - 5s - loss: 1.6271 - accuracy: 0.7120\n",
            "Epoch 76/100\n",
            "484/484 - 5s - loss: 1.6089 - accuracy: 0.7157\n",
            "Epoch 77/100\n",
            "484/484 - 5s - loss: 1.5775 - accuracy: 0.7233\n",
            "Epoch 78/100\n",
            "484/484 - 5s - loss: 1.5665 - accuracy: 0.7214\n",
            "Epoch 79/100\n",
            "484/484 - 5s - loss: 1.5315 - accuracy: 0.7284\n",
            "Epoch 80/100\n",
            "484/484 - 5s - loss: 1.5141 - accuracy: 0.7352\n",
            "Epoch 81/100\n",
            "484/484 - 5s - loss: 1.4986 - accuracy: 0.7384\n",
            "Epoch 82/100\n",
            "484/484 - 5s - loss: 1.5039 - accuracy: 0.7333\n",
            "Epoch 83/100\n",
            "484/484 - 5s - loss: 1.4736 - accuracy: 0.7406\n",
            "Epoch 84/100\n",
            "484/484 - 5s - loss: 1.4478 - accuracy: 0.7483\n",
            "Epoch 85/100\n",
            "484/484 - 5s - loss: 1.4305 - accuracy: 0.7465\n",
            "Epoch 86/100\n",
            "484/484 - 5s - loss: 1.4214 - accuracy: 0.7503\n",
            "Epoch 87/100\n",
            "484/484 - 5s - loss: 1.4087 - accuracy: 0.7514\n",
            "Epoch 88/100\n",
            "484/484 - 5s - loss: 1.3870 - accuracy: 0.7583\n",
            "Epoch 89/100\n",
            "484/484 - 5s - loss: 1.3648 - accuracy: 0.7635\n",
            "Epoch 90/100\n",
            "484/484 - 5s - loss: 1.3490 - accuracy: 0.7651\n",
            "Epoch 91/100\n",
            "484/484 - 5s - loss: 1.3488 - accuracy: 0.7626\n",
            "Epoch 92/100\n",
            "484/484 - 5s - loss: 1.3410 - accuracy: 0.7650\n",
            "Epoch 93/100\n",
            "484/484 - 5s - loss: 1.3215 - accuracy: 0.7660\n",
            "Epoch 94/100\n",
            "484/484 - 5s - loss: 1.3028 - accuracy: 0.7736\n",
            "Epoch 95/100\n",
            "484/484 - 5s - loss: 1.2873 - accuracy: 0.7740\n",
            "Epoch 96/100\n",
            "484/484 - 5s - loss: 1.2796 - accuracy: 0.7752\n",
            "Epoch 97/100\n",
            "484/484 - 5s - loss: 1.2800 - accuracy: 0.7763\n",
            "Epoch 98/100\n",
            "484/484 - 5s - loss: 1.2528 - accuracy: 0.7804\n",
            "Epoch 99/100\n",
            "484/484 - 5s - loss: 1.2434 - accuracy: 0.7831\n",
            "Epoch 100/100\n",
            "484/484 - 5s - loss: 1.2410 - accuracy: 0.7823\n"
          ],
          "name": "stdout"
        }
      ]
    },
    {
      "cell_type": "code",
      "metadata": {
        "colab_type": "code",
        "id": "1fXTEO3GJ282",
        "colab": {
          "base_uri": "https://localhost:8080/",
          "height": 545
        },
        "outputId": "348a1cf6-8561-450a-975f-6ac76ad92478"
      },
      "source": [
        "import matplotlib.pyplot as plt\n",
        "acc = history.history['accuracy']\n",
        "loss = history.history['loss']\n",
        "\n",
        "epochs = range(len(acc))\n",
        "\n",
        "plt.plot(epochs, acc, 'b', label='Training accuracy')\n",
        "plt.title('Training accuracy')\n",
        "\n",
        "plt.figure()\n",
        "\n",
        "plt.plot(epochs, loss, 'b', label='Training Loss')\n",
        "plt.title('Training loss')\n",
        "plt.legend()\n",
        "\n",
        "plt.show()"
      ],
      "execution_count": 7,
      "outputs": [
        {
          "output_type": "display_data",
          "data": {
            "image/png": "[encoded data removed]",
            "text/plain": [
              "<Figure size 432x288 with 1 Axes>"
            ]
          },
          "metadata": {
            "tags": [],
            "needs_background": "light"
          }
        },
        {
          "output_type": "display_data",
          "data": {
            "image/png": "[encoded data removed]",
            "text/plain": [
              "<Figure size 432x288 with 1 Axes>"
            ]
          },
          "metadata": {
            "tags": [],
            "needs_background": "light"
          }
        }
      ]
    },
    {
      "cell_type": "code",
      "metadata": {
        "colab_type": "code",
        "id": "6Vc6PHgxa6Hm",
        "colab": {
          "base_uri": "https://localhost:8080/",
          "height": 105
        },
        "outputId": "2632bdbe-1eb5-41a2-afc3-6327a9340131"
      },
      "source": [
        "seed_text = \"Help me Obi Wan Kenobi, you're my only hope\"\n",
        "next_words = 100\n",
        "  \n",
        "for _ in range(next_words):\n",
        "\ttoken_list = tokenizer.texts_to_sequences([seed_text])[0]\n",
        "\ttoken_list = pad_sequences([token_list], maxlen=max_sequence_len-1, padding='pre')\n",
        "\tpredicted = model.predict_classes(token_list, verbose=0)\n",
        "\toutput_word = \"\"\n",
        "\tfor word, index in tokenizer.word_index.items():\n",
        "\t\tif index == predicted:\n",
        "\t\t\toutput_word = word\n",
        "\t\t\tbreak\n",
        "\tseed_text += \" \" + output_word\n",
        "print(seed_text)"
      ],
      "execution_count": 8,
      "outputs": [
        {
          "output_type": "stream",
          "text": [
            "WARNING:tensorflow:From <ipython-input-8-622d307fa19a>:7: Sequential.predict_classes (from tensorflow.python.keras.engine.sequential) is deprecated and will be removed after 2021-01-01.\n",
            "Instructions for updating:\n",
            "Please use instead:* `np.argmax(model.predict(x), axis=-1)`,   if your model does multi-class classification   (e.g. if it uses a `softmax` last-layer activation).* `(model.predict(x) > 0.5).astype(\"int32\")`,   if your model does binary classification   (e.g. if it uses a `sigmoid` last-layer activation).\n",
            "Help me Obi Wan Kenobi, you're my only hope away again wanting pain such dear rhyme muse thee in me heaven none spend 'will ' there well alone still doth thee you write her such ' eyes still still green thee well doth see thee doth thy name lover groan ' eyes in thee well thee seem to write fair for thee you have you still be near green deep green thee well to call it 'will ' in thee so alone still shown thee in thee rare 'will ' so behind thee to die thee shown hence shown small heart well worse did bide fortune's dearest world go\n"
          ],
          "name": "stdout"
        }
      ]
    }
  ]
}