{
  "nbformat": 4,
  "nbformat_minor": 0,
  "metadata": {
    "accelerator": "GPU",
    "colab": {
      "name": "NLP Course - Week 3 Exercise Question.ipynb",
      "provenance": [],
      "toc_visible": true
    },
    "kernelspec": {
      "display_name": "Python 3",
      "name": "python3"
    }
  },
  "cells": [
    {
      "cell_type": "code",
      "metadata": {
        "id": "zX4Kg8DUTKWO",
        "colab_type": "code",
        "colab": {}
      },
      "source": [
        "#@title Licensed under the Apache License, Version 2.0 (the \"License\");\n",
        "# you may not use this file except in compliance with the License.\n",
        "# You may obtain a copy of the License at\n",
        "#\n",
        "# https://www.apache.org/licenses/LICENSE-2.0\n",
        "#\n",
        "# Unless required by applicable law or agreed to in writing, software\n",
        "# distributed under the License is distributed on an \"AS IS\" BASIS,\n",
        "# WITHOUT WARRANTIES OR CONDITIONS OF ANY KIND, either express or implied.\n",
        "# See the License for the specific language governing permissions and\n",
        "# limitations under the License."
      ],
      "execution_count": null,
      "outputs": []
    },
    {
      "cell_type": "code",
      "metadata": {
        "colab_type": "code",
        "id": "hmA6EzkQJ5jt",
        "colab": {}
      },
      "source": [
        "import json\n",
        "import tensorflow as tf\n",
        "import csv\n",
        "import random\n",
        "import numpy as np\n",
        "\n",
        "from tensorflow.keras.preprocessing.text import Tokenizer\n",
        "from tensorflow.keras.preprocessing.sequence import pad_sequences\n",
        "from tensorflow.keras.utils import to_categorical\n",
        "from tensorflow.keras import regularizers\n",
        "\n",
        "\n",
        "embedding_dim = 100\n",
        "max_length = 16\n",
        "trunc_type='post'\n",
        "padding_type='post'\n",
        "oov_tok = \"<OOV>\"\n",
        "training_size= 160000 #Your dataset size here. Experiment using smaller values (i.e. 16000), but don't forget to train on at least 160000 to see the best effects\n",
        "test_portion=.1\n",
        "\n",
        "corpus = []\n"
      ],
      "execution_count": 3,
      "outputs": []
    },
    {
      "cell_type": "code",
      "metadata": {
        "colab_type": "code",
        "id": "bM0l_dORKqE0",
        "colab": {
          "base_uri": "https://localhost:8080/",
          "height": 204
        },
        "outputId": "022e3b8c-cbc8-4a6f-9158-ff33e245575e"
      },
      "source": [
        "# Note that I cleaned the Stanford dataset to remove LATIN1 encoding to make it easier for Python CSV reader\n",
        "# You can do that yourself with:\n",
        "# iconv -f LATIN1 -t UTF8 training.1600000.processed.noemoticon.csv -o training_cleaned.csv\n",
        "# I then hosted it on my site to make it easier to use in this notebook\n",
        "\n",
        "!wget --no-check-certificate \\\n",
        "    https://storage.googleapis.com/laurencemoroney-blog.appspot.com/training_cleaned.csv \\\n",
        "    -O /tmp/training_cleaned.csv\n",
        "\n",
        "num_sentences = 0\n",
        "\n",
        "with open(\"/tmp/training_cleaned.csv\") as csvfile:\n",
        "    reader = csv.reader(csvfile, delimiter=',')\n",
        "    for row in reader:\n",
        "      # Your Code here. Create list items where the first item is the text, found in row[5], and the second is the label. Note that the label is a '0' or a '4' in the text. When it's the former, make\n",
        "      # your label to be 0, otherwise 1. Keep a count of the number of sentences in num_sentences\n",
        "        list_item=[]\n",
        "        # YOUR CODE HERE\n",
        "        list_item.append(row[5])\n",
        "        this_label = row[0]\n",
        "        if this_label == '0':\n",
        "            list_item.append(0)\n",
        "        else:\n",
        "            list_item.append(1)\n",
        "        num_sentences = num_sentences + 1\n",
        "        corpus.append(list_item)\n"
      ],
      "execution_count": 4,
      "outputs": [
        {
          "output_type": "stream",
          "text": [
            "--2020-09-07 06:37:22--  https://storage.googleapis.com/laurencemoroney-blog.appspot.com/training_cleaned.csv\n",
            "Resolving storage.googleapis.com (storage.googleapis.com)... 74.125.142.128, 74.125.195.128, 74.125.20.128, ...\n",
            "Connecting to storage.googleapis.com (storage.googleapis.com)|74.125.142.128|:443... connected.\n",
            "HTTP request sent, awaiting response... 200 OK\n",
            "Length: 238942690 (228M) [application/octet-stream]\n",
            "Saving to: ‘/tmp/training_cleaned.csv’\n",
            "\n",
            "/tmp/training_clean 100%[===================>] 227.87M   103MB/s    in 2.2s    \n",
            "\n",
            "2020-09-07 06:37:25 (103 MB/s) - ‘/tmp/training_cleaned.csv’ saved [238942690/238942690]\n",
            "\n"
          ],
          "name": "stdout"
        }
      ]
    },
    {
      "cell_type": "code",
      "metadata": {
        "colab_type": "code",
        "id": "3kxblBUjEUX-",
        "colab": {
          "base_uri": "https://localhost:8080/",
          "height": 68
        },
        "outputId": "9b4f137f-cde7-4f3c-c51c-c47d0e999bdb"
      },
      "source": [
        "print(num_sentences)\n",
        "print(len(corpus))\n",
        "print(corpus[1])\n",
        "\n",
        "# Expected Output:\n",
        "# 1600000\n",
        "# 1600000\n",
        "# [\"is upset that he can't update his Facebook by texting it... and might cry as a result  School today also. Blah!\", 0]"
      ],
      "execution_count": 5,
      "outputs": [
        {
          "output_type": "stream",
          "text": [
            "1600000\n",
            "1600000\n",
            "[\"is upset that he can't update his Facebook by texting it... and might cry as a result  School today also. Blah!\", 0]\n"
          ],
          "name": "stdout"
        }
      ]
    },
    {
      "cell_type": "code",
      "metadata": {
        "colab_type": "code",
        "id": "ohOGz24lsNAD",
        "colab": {}
      },
      "source": [
        "sentences=[]\n",
        "labels=[]\n",
        "random.shuffle(corpus)\n",
        "for x in range(training_size):\n",
        "    sentences.append(corpus[x][0])\n",
        "    labels.append(corpus[x][1])\n",
        "\n",
        "\n",
        "tokenizer = Tokenizer()\n",
        "tokenizer.fit_on_texts(sentences)\n",
        "\n",
        "word_index = tokenizer.word_index\n",
        "vocab_size=len(word_index)\n",
        "\n",
        "sequences = tokenizer.texts_to_sequences(sentences)\n",
        "padded = pad_sequences(sequences, maxlen=max_length, padding=padding_type, truncating=trunc_type)\n",
        "\n",
        "split = int(test_portion * training_size)\n",
        "\n",
        "test_sequences = padded[0:split]\n",
        "training_sequences = padded[split:training_size]\n",
        "test_labels = labels[0:split]\n",
        "training_labels = labels[split:training_size]"
      ],
      "execution_count": 6,
      "outputs": []
    },
    {
      "cell_type": "code",
      "metadata": {
        "colab_type": "code",
        "id": "gIrtRem1En3N",
        "colab": {
          "base_uri": "https://localhost:8080/",
          "height": 51
        },
        "outputId": "f5ef34c2-c60e-4491-e3b3-ef2bbde16773"
      },
      "source": [
        "print(vocab_size)\n",
        "print(word_index['i'])\n",
        "# Expected Output\n",
        "# 138858\n",
        "# 1"
      ],
      "execution_count": 7,
      "outputs": [
        {
          "output_type": "stream",
          "text": [
            "138754\n",
            "1\n"
          ],
          "name": "stdout"
        }
      ]
    },
    {
      "cell_type": "code",
      "metadata": {
        "colab_type": "code",
        "id": "C1zdgJkusRh0",
        "colab": {
          "base_uri": "https://localhost:8080/",
          "height": 204
        },
        "outputId": "7b03ac0d-160d-4dec-8fad-7947c87ce892"
      },
      "source": [
        "# Note this is the 100 dimension version of GloVe from Stanford\n",
        "# I unzipped and hosted it on my site to make this notebook easier\n",
        "!wget --no-check-certificate \\\n",
        "    https://storage.googleapis.com/laurencemoroney-blog.appspot.com/glove.6B.100d.txt \\\n",
        "    -O /tmp/glove.6B.100d.txt\n",
        "embeddings_index = {};\n",
        "with open('/tmp/glove.6B.100d.txt') as f:\n",
        "    for line in f:\n",
        "        values = line.split();\n",
        "        word = values[0];\n",
        "        coefs = np.asarray(values[1:], dtype='float32');\n",
        "        embeddings_index[word] = coefs;\n",
        "\n",
        "embeddings_matrix = np.zeros((vocab_size+1, embedding_dim));\n",
        "for word, i in word_index.items():\n",
        "    embedding_vector = embeddings_index.get(word);\n",
        "    if embedding_vector is not None:\n",
        "        embeddings_matrix[i] = embedding_vector;"
      ],
      "execution_count": 8,
      "outputs": [
        {
          "output_type": "stream",
          "text": [
            "--2020-09-07 06:37:55--  https://storage.googleapis.com/laurencemoroney-blog.appspot.com/glove.6B.100d.txt\n",
            "Resolving storage.googleapis.com (storage.googleapis.com)... 74.125.142.128, 74.125.195.128, 74.125.20.128, ...\n",
            "Connecting to storage.googleapis.com (storage.googleapis.com)|74.125.142.128|:443... connected.\n",
            "HTTP request sent, awaiting response... 200 OK\n",
            "Length: 347116733 (331M) [text/plain]\n",
            "Saving to: ‘/tmp/glove.6B.100d.txt’\n",
            "\n",
            "/tmp/glove.6B.100d. 100%[===================>] 331.04M   101MB/s    in 3.3s    \n",
            "\n",
            "2020-09-07 06:37:59 (101 MB/s) - ‘/tmp/glove.6B.100d.txt’ saved [347116733/347116733]\n",
            "\n"
          ],
          "name": "stdout"
        }
      ]
    },
    {
      "cell_type": "code",
      "metadata": {
        "colab_type": "code",
        "id": "71NLk_lpFLNt",
        "colab": {
          "base_uri": "https://localhost:8080/",
          "height": 34
        },
        "outputId": "eae407eb-946c-41c6-ab54-27ece31c5e92"
      },
      "source": [
        "print(len(embeddings_matrix))\n",
        "# Expected Output\n",
        "# 138859"
      ],
      "execution_count": 9,
      "outputs": [
        {
          "output_type": "stream",
          "text": [
            "138755\n"
          ],
          "name": "stdout"
        }
      ]
    },
    {
      "cell_type": "code",
      "metadata": {
        "colab_type": "code",
        "id": "iKKvbuEBOGFz",
        "colab": {
          "base_uri": "https://localhost:8080/",
          "height": 1000
        },
        "outputId": "d223794e-c345-4bc4-82eb-adff4a9e5071"
      },
      "source": [
        "model = tf.keras.Sequential([\n",
        "    tf.keras.layers.Embedding(vocab_size+1, embedding_dim, input_length=max_length, weights=[embeddings_matrix], trainable=False),\n",
        "    # YOUR CODE HERE - experiment with combining different types, such as convolutions and LSTMs\n",
        "    tf.keras.layers.Dropout(0.2),\n",
        "    tf.keras.layers.Conv1D(64, 5, activation='relu'),\n",
        "    tf.keras.layers.MaxPooling1D(pool_size=4),\n",
        "    tf.keras.layers.LSTM(64),\n",
        "    tf.keras.layers.Dense(1, activation='sigmoid')\n",
        "])\n",
        "model.compile(loss='binary_crossentropy', optimizer='adam', metrics=['accuracy'])\n",
        "model.summary()\n",
        "\n",
        "num_epochs = 50\n",
        "\n",
        "\n",
        "training_padded = np.array(training_sequences)\n",
        "training_labels = np.array(training_labels)\n",
        "testing_padded = np.array(test_sequences)\n",
        "testing_labels = np.array(test_labels)\n",
        "\n",
        "history = model.fit(training_padded, training_labels, epochs=num_epochs, validation_data=(testing_padded, testing_labels), verbose=2)\n",
        "print(\"Training Complete\")\n"
      ],
      "execution_count": 10,
      "outputs": [
        {
          "output_type": "stream",
          "text": [
            "Model: \"sequential\"\n",
            "_________________________________________________________________\n",
            "Layer (type)                 Output Shape              Param #   \n",
            "=================================================================\n",
            "embedding (Embedding)        (None, 16, 100)           13875500  \n",
            "_________________________________________________________________\n",
            "dropout (Dropout)            (None, 16, 100)           0         \n",
            "_________________________________________________________________\n",
            "conv1d (Conv1D)              (None, 12, 64)            32064     \n",
            "_________________________________________________________________\n",
            "max_pooling1d (MaxPooling1D) (None, 3, 64)             0         \n",
            "_________________________________________________________________\n",
            "lstm (LSTM)                  (None, 64)                33024     \n",
            "_________________________________________________________________\n",
            "dense (Dense)                (None, 1)                 65        \n",
            "=================================================================\n",
            "Total params: 13,940,653\n",
            "Trainable params: 65,153\n",
            "Non-trainable params: 13,875,500\n",
            "_________________________________________________________________\n",
            "Epoch 1/50\n",
            "4500/4500 - 19s - loss: 0.5686 - accuracy: 0.6971 - val_loss: 0.5466 - val_accuracy: 0.7157\n",
            "Epoch 2/50\n",
            "4500/4500 - 19s - loss: 0.5275 - accuracy: 0.7329 - val_loss: 0.5170 - val_accuracy: 0.7353\n",
            "Epoch 3/50\n",
            "4500/4500 - 19s - loss: 0.5105 - accuracy: 0.7440 - val_loss: 0.5070 - val_accuracy: 0.7479\n",
            "Epoch 4/50\n",
            "4500/4500 - 19s - loss: 0.4994 - accuracy: 0.7525 - val_loss: 0.5021 - val_accuracy: 0.7447\n",
            "Epoch 5/50\n",
            "4500/4500 - 19s - loss: 0.4906 - accuracy: 0.7581 - val_loss: 0.5024 - val_accuracy: 0.7508\n",
            "Epoch 6/50\n",
            "4500/4500 - 19s - loss: 0.4842 - accuracy: 0.7619 - val_loss: 0.4979 - val_accuracy: 0.7554\n",
            "Epoch 7/50\n",
            "4500/4500 - 19s - loss: 0.4785 - accuracy: 0.7668 - val_loss: 0.5129 - val_accuracy: 0.7453\n",
            "Epoch 8/50\n",
            "4500/4500 - 19s - loss: 0.4742 - accuracy: 0.7678 - val_loss: 0.5018 - val_accuracy: 0.7513\n",
            "Epoch 9/50\n",
            "4500/4500 - 19s - loss: 0.4675 - accuracy: 0.7727 - val_loss: 0.5110 - val_accuracy: 0.7481\n",
            "Epoch 10/50\n",
            "4500/4500 - 19s - loss: 0.4646 - accuracy: 0.7745 - val_loss: 0.4993 - val_accuracy: 0.7547\n",
            "Epoch 11/50\n",
            "4500/4500 - 20s - loss: 0.4608 - accuracy: 0.7765 - val_loss: 0.5017 - val_accuracy: 0.7527\n",
            "Epoch 12/50\n",
            "4500/4500 - 19s - loss: 0.4580 - accuracy: 0.7789 - val_loss: 0.5052 - val_accuracy: 0.7512\n",
            "Epoch 13/50\n",
            "4500/4500 - 18s - loss: 0.4553 - accuracy: 0.7804 - val_loss: 0.5006 - val_accuracy: 0.7503\n",
            "Epoch 14/50\n",
            "4500/4500 - 19s - loss: 0.4540 - accuracy: 0.7805 - val_loss: 0.5040 - val_accuracy: 0.7494\n",
            "Epoch 15/50\n",
            "4500/4500 - 18s - loss: 0.4506 - accuracy: 0.7831 - val_loss: 0.5077 - val_accuracy: 0.7507\n",
            "Epoch 16/50\n",
            "4500/4500 - 18s - loss: 0.4498 - accuracy: 0.7837 - val_loss: 0.5049 - val_accuracy: 0.7539\n",
            "Epoch 17/50\n",
            "4500/4500 - 18s - loss: 0.4474 - accuracy: 0.7842 - val_loss: 0.5051 - val_accuracy: 0.7531\n",
            "Epoch 18/50\n",
            "4500/4500 - 18s - loss: 0.4458 - accuracy: 0.7860 - val_loss: 0.5116 - val_accuracy: 0.7462\n",
            "Epoch 19/50\n",
            "4500/4500 - 18s - loss: 0.4440 - accuracy: 0.7865 - val_loss: 0.5146 - val_accuracy: 0.7501\n",
            "Epoch 20/50\n",
            "4500/4500 - 18s - loss: 0.4426 - accuracy: 0.7877 - val_loss: 0.5122 - val_accuracy: 0.7487\n",
            "Epoch 21/50\n",
            "4500/4500 - 18s - loss: 0.4418 - accuracy: 0.7886 - val_loss: 0.5194 - val_accuracy: 0.7409\n",
            "Epoch 22/50\n",
            "4500/4500 - 18s - loss: 0.4417 - accuracy: 0.7876 - val_loss: 0.5186 - val_accuracy: 0.7501\n",
            "Epoch 23/50\n",
            "4500/4500 - 18s - loss: 0.4402 - accuracy: 0.7886 - val_loss: 0.5140 - val_accuracy: 0.7497\n",
            "Epoch 24/50\n",
            "4500/4500 - 18s - loss: 0.4390 - accuracy: 0.7904 - val_loss: 0.5200 - val_accuracy: 0.7469\n",
            "Epoch 25/50\n",
            "4500/4500 - 18s - loss: 0.4376 - accuracy: 0.7918 - val_loss: 0.5155 - val_accuracy: 0.7452\n",
            "Epoch 26/50\n",
            "4500/4500 - 18s - loss: 0.4368 - accuracy: 0.7921 - val_loss: 0.5156 - val_accuracy: 0.7450\n",
            "Epoch 27/50\n",
            "4500/4500 - 19s - loss: 0.4362 - accuracy: 0.7914 - val_loss: 0.5185 - val_accuracy: 0.7468\n",
            "Epoch 28/50\n",
            "4500/4500 - 20s - loss: 0.4365 - accuracy: 0.7922 - val_loss: 0.5231 - val_accuracy: 0.7453\n",
            "Epoch 29/50\n",
            "4500/4500 - 18s - loss: 0.4351 - accuracy: 0.7926 - val_loss: 0.5163 - val_accuracy: 0.7483\n",
            "Epoch 30/50\n",
            "4500/4500 - 18s - loss: 0.4339 - accuracy: 0.7940 - val_loss: 0.5210 - val_accuracy: 0.7436\n",
            "Epoch 31/50\n",
            "4500/4500 - 18s - loss: 0.4341 - accuracy: 0.7939 - val_loss: 0.5177 - val_accuracy: 0.7473\n",
            "Epoch 32/50\n",
            "4500/4500 - 18s - loss: 0.4342 - accuracy: 0.7929 - val_loss: 0.5213 - val_accuracy: 0.7473\n",
            "Epoch 33/50\n",
            "4500/4500 - 18s - loss: 0.4323 - accuracy: 0.7950 - val_loss: 0.5230 - val_accuracy: 0.7464\n",
            "Epoch 34/50\n",
            "4500/4500 - 18s - loss: 0.4334 - accuracy: 0.7937 - val_loss: 0.5196 - val_accuracy: 0.7456\n",
            "Epoch 35/50\n",
            "4500/4500 - 18s - loss: 0.4323 - accuracy: 0.7931 - val_loss: 0.5242 - val_accuracy: 0.7498\n",
            "Epoch 36/50\n",
            "4500/4500 - 18s - loss: 0.4317 - accuracy: 0.7948 - val_loss: 0.5254 - val_accuracy: 0.7429\n",
            "Epoch 37/50\n",
            "4500/4500 - 18s - loss: 0.4310 - accuracy: 0.7957 - val_loss: 0.5203 - val_accuracy: 0.7483\n",
            "Epoch 38/50\n",
            "4500/4500 - 18s - loss: 0.4317 - accuracy: 0.7943 - val_loss: 0.5235 - val_accuracy: 0.7462\n",
            "Epoch 39/50\n",
            "4500/4500 - 18s - loss: 0.4300 - accuracy: 0.7946 - val_loss: 0.5309 - val_accuracy: 0.7449\n",
            "Epoch 40/50\n",
            "4500/4500 - 18s - loss: 0.4299 - accuracy: 0.7946 - val_loss: 0.5341 - val_accuracy: 0.7379\n",
            "Epoch 41/50\n",
            "4500/4500 - 18s - loss: 0.4313 - accuracy: 0.7953 - val_loss: 0.5256 - val_accuracy: 0.7437\n",
            "Epoch 42/50\n",
            "4500/4500 - 18s - loss: 0.4292 - accuracy: 0.7957 - val_loss: 0.5265 - val_accuracy: 0.7459\n",
            "Epoch 43/50\n",
            "4500/4500 - 18s - loss: 0.4286 - accuracy: 0.7952 - val_loss: 0.5253 - val_accuracy: 0.7468\n",
            "Epoch 44/50\n",
            "4500/4500 - 19s - loss: 0.4305 - accuracy: 0.7948 - val_loss: 0.5240 - val_accuracy: 0.7454\n",
            "Epoch 45/50\n",
            "4500/4500 - 20s - loss: 0.4282 - accuracy: 0.7956 - val_loss: 0.5232 - val_accuracy: 0.7445\n",
            "Epoch 46/50\n",
            "4500/4500 - 18s - loss: 0.4288 - accuracy: 0.7973 - val_loss: 0.5223 - val_accuracy: 0.7452\n",
            "Epoch 47/50\n",
            "4500/4500 - 18s - loss: 0.4282 - accuracy: 0.7967 - val_loss: 0.5258 - val_accuracy: 0.7453\n",
            "Epoch 48/50\n",
            "4500/4500 - 18s - loss: 0.4275 - accuracy: 0.7969 - val_loss: 0.5246 - val_accuracy: 0.7452\n",
            "Epoch 49/50\n",
            "4500/4500 - 18s - loss: 0.4288 - accuracy: 0.7958 - val_loss: 0.5238 - val_accuracy: 0.7456\n",
            "Epoch 50/50\n",
            "4500/4500 - 18s - loss: 0.4278 - accuracy: 0.7964 - val_loss: 0.5287 - val_accuracy: 0.7446\n",
            "Training Complete\n"
          ],
          "name": "stdout"
        }
      ]
    },
    {
      "cell_type": "code",
      "metadata": {
        "colab_type": "code",
        "id": "qxju4ItJKO8F",
        "colab": {
          "base_uri": "https://localhost:8080/",
          "height": 607
        },
        "outputId": "46ca5ac9-406e-4e57-ab2a-0b9c2df34f41"
      },
      "source": [
        "import matplotlib.image  as mpimg\n",
        "import matplotlib.pyplot as plt\n",
        "\n",
        "#-----------------------------------------------------------\n",
        "# Retrieve a list of list results on training and test data\n",
        "# sets for each training epoch\n",
        "#-----------------------------------------------------------\n",
        "acc=history.history['accuracy']\n",
        "val_acc=history.history['val_accuracy']\n",
        "loss=history.history['loss']\n",
        "val_loss=history.history['val_loss']\n",
        "\n",
        "epochs=range(len(acc)) # Get number of epochs\n",
        "\n",
        "#------------------------------------------------\n",
        "# Plot training and validation accuracy per epoch\n",
        "#------------------------------------------------\n",
        "plt.plot(epochs, acc, 'r')\n",
        "plt.plot(epochs, val_acc, 'b')\n",
        "plt.title('Training and validation accuracy')\n",
        "plt.xlabel(\"Epochs\")\n",
        "plt.ylabel(\"Accuracy\")\n",
        "plt.legend([\"Accuracy\", \"Validation Accuracy\"])\n",
        "\n",
        "plt.figure()\n",
        "\n",
        "#------------------------------------------------\n",
        "# Plot training and validation loss per epoch\n",
        "#------------------------------------------------\n",
        "plt.plot(epochs, loss, 'r')\n",
        "plt.plot(epochs, val_loss, 'b')\n",
        "plt.title('Training and validation loss')\n",
        "plt.xlabel(\"Epochs\")\n",
        "plt.ylabel(\"Loss\")\n",
        "plt.legend([\"Loss\", \"Validation Loss\"])\n",
        "\n",
        "plt.figure()\n",
        "\n",
        "\n",
        "# Expected Output\n",
        "# A chart where the validation loss does not increase sharply!"
      ],
      "execution_count": 11,
      "outputs": [
        {
          "output_type": "execute_result",
          "data": {
            "text/plain": [
              "<Figure size 432x288 with 0 Axes>"
            ]
          },
          "metadata": {
            "tags": []
          },
          "execution_count": 11
        },
        {
          "output_type": "display_data",
          "data": {
            "image/png": "[encoded data removed]",
            "text/plain": [
              "<Figure size 432x288 with 1 Axes>"
            ]
          },
          "metadata": {
            "tags": [],
            "needs_background": "light"
          }
        },
        {
          "output_type": "display_data",
          "data": {
            "image/png": "[encoded data removed]",
            "text/plain": [
              "<Figure size 432x288 with 1 Axes>"
            ]
          },
          "metadata": {
            "tags": [],
            "needs_background": "light"
          }
        },
        {
          "output_type": "display_data",
          "data": {
            "text/plain": [
              "<Figure size 432x288 with 0 Axes>"
            ]
          },
          "metadata": {
            "tags": []
          }
        }
      ]
    }
  ]
}